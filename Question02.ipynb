{
 "cells": [
  {
   "cell_type": "code",
   "execution_count": 1,
   "outputs": [],
   "source": [
    "import numpy as np\n",
    "import pandas as pd\n",
    "from tensorflow.keras.preprocessing.text import Tokenizer\n",
    "from tensorflow.keras.preprocessing.sequence import pad_sequences\n",
    "from tensorflow.keras.models import Sequential\n",
    "from tensorflow.keras.layers import LSTM, Dense, Embedding, Bidirectional"
   ],
   "metadata": {
    "collapsed": false,
    "ExecuteTime": {
     "end_time": "2024-05-04T11:42:16.384247700Z",
     "start_time": "2024-05-04T11:42:00.866625800Z"
    }
   },
   "id": "2b35d12e325dbe80"
  },
  {
   "cell_type": "code",
   "execution_count": 2,
   "outputs": [],
   "source": [
    "# Sample dataset\n",
    "\n",
    "data = pd.read_csv('./NLU_Dataset.csv')\n",
    "\n",
    "input_text = input('Enter text : ')"
   ],
   "metadata": {
    "collapsed": false,
    "ExecuteTime": {
     "end_time": "2024-05-04T11:42:16.394769400Z",
     "start_time": "2024-05-04T11:42:16.378777900Z"
    }
   },
   "id": "c5c0067907ca0643"
  },
  {
   "cell_type": "code",
   "execution_count": 3,
   "outputs": [],
   "source": [
    "# Tokenization and sequence padding\n",
    "tokenizer = Tokenizer()\n",
    "tokenizer.fit_on_texts([text for intent, examples in data.items() for text in examples])\n",
    "vocab_size = len(tokenizer.word_index) + 1\n",
    "\n",
    "max_len = max(len(text.split()) for , examples in data.items() for text in examples)\n",
    "sequences = tokenizer.texts_to_sequences([text for intent, examples in data.items() for text in examples])\n",
    "padded_sequences = pad_sequences(sequences, maxlen=max_len, padding='post')\n",
    "\n",
    "# One-hot encode labels\n",
    "labels = np.array([i for i, intent in enumerate(data.keys()) for _ in data[intent]])"
   ],
   "metadata": {
    "collapsed": false,
    "ExecuteTime": {
     "end_time": "2024-05-04T11:42:16.404452500Z",
     "start_time": "2024-05-04T11:42:16.394769400Z"
    }
   },
   "id": "6eed022543595f4b"
  },
  {
   "cell_type": "code",
   "execution_count": 4,
   "outputs": [
    {
     "name": "stderr",
     "output_type": "stream",
     "text": [
      "D:\\My\\CS\\Hackothons\\Intellihack\\Intellihack_CodeCrafters_1\\venv\\Lib\\site-packages\\keras\\src\\layers\\core\\embedding.py:90: UserWarning: Argument `input_length` is deprecated. Just remove it.\n",
      "  warnings.warn(\n"
     ]
    },
    {
     "data": {
      "text/plain": "<keras.src.callbacks.history.History at 0x182da17b910>"
     },
     "execution_count": 4,
     "metadata": {},
     "output_type": "execute_result"
    }
   ],
   "source": [
    "# LSTM model\n",
    "model = Sequential()\n",
    "model.add(Embedding(vocab_size, 100, input_length=max_len))\n",
    "model.add(Bidirectional(LSTM(128)))\n",
    "model.add(Dense(len(data), activation='softmax'))\n",
    "\n",
    "model.compile(loss='sparse_categorical_crossentropy', optimizer='adam', metrics=['accuracy'])\n",
    "\n",
    "# Training\n",
    "model.fit(padded_sequences, labels, epochs=50, verbose=0)"
   ],
   "metadata": {
    "collapsed": false,
    "ExecuteTime": {
     "end_time": "2024-05-04T11:42:23.771520900Z",
     "start_time": "2024-05-04T11:42:16.401452400Z"
    }
   },
   "id": "168b9a808c73ecee"
  },
  {
   "cell_type": "code",
   "execution_count": 5,
   "outputs": [
    {
     "name": "stdout",
     "output_type": "stream",
     "text": [
      "\u001B[1m1/1\u001B[0m \u001B[32m━━━━━━━━━━━━━━━━━━━━\u001B[0m\u001B[37m\u001B[0m \u001B[1m0s\u001B[0m 302ms/step\n"
     ]
    }
   ],
   "source": [
    "# Testing\n",
    "test_input = \"Hi there, can you tell me the time?\"\n",
    "test_sequence = tokenizer.texts_to_sequences([test_input])\n",
    "padded_test_sequence = pad_sequences(test_sequence, maxlen=max_len, padding='post')\n",
    "\n",
    "predicted_probabilities = model.predict(padded_test_sequence)[0]\n",
    "predicted_intent_index = np.argmax(predicted_probabilities)\n",
    "confidence_score = predicted_probabilities[predicted_intent_index]"
   ],
   "metadata": {
    "collapsed": false,
    "ExecuteTime": {
     "end_time": "2024-05-04T11:42:24.121599100Z",
     "start_time": "2024-05-04T11:42:23.773521600Z"
    }
   },
   "id": "99d207e617a1506b"
  },
  {
   "cell_type": "code",
   "execution_count": 6,
   "outputs": [
    {
     "name": "stdout",
     "output_type": "stream",
     "text": [
      "Intent: Example, Confidence: 0.9960881471633911\n"
     ]
    }
   ],
   "source": [
    "# Fallback mechanism\n",
    "threshold = 0.7\n",
    "if confidence_score >= threshold:\n",
    "    intents = list(data.keys())\n",
    "    predicted_intent = intents[predicted_intent_index]\n",
    "    print(f\"Intent: {predicted_intent}, Confidence: {confidence_score}\")\n",
    "else:\n",
    "    print(\"Fallback: Intent could not be confidently determined.\")"
   ],
   "metadata": {
    "collapsed": false,
    "ExecuteTime": {
     "end_time": "2024-05-04T11:42:24.128483200Z",
     "start_time": "2024-05-04T11:42:24.123603400Z"
    }
   },
   "id": "638fa618d535f238"
  }
 ],
 "metadata": {
  "kernelspec": {
   "display_name": "Python 3",
   "language": "python",
   "name": "python3"
  },
  "language_info": {
   "codemirror_mode": {
    "name": "ipython",
    "version": 2
   },
   "file_extension": ".py",
   "mimetype": "text/x-python",
   "name": "python",
   "nbconvert_exporter": "python",
   "pygments_lexer": "ipython2",
   "version": "2.7.6"
  }
 },
 "nbformat": 4,
 "nbformat_minor": 5
}
