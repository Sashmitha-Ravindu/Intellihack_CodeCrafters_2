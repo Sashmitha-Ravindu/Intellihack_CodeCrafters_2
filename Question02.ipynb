{
 "cells": [
  {
   "cell_type": "code",
   "execution_count": 1,
   "outputs": [],
   "source": [
    "import numpy as np\n",
    "import pandas as pd\n",
    "from tensorflow.keras.preprocessing.text import Tokenizer\n",
    "from tensorflow.keras.preprocessing.sequence import pad_sequences\n",
    "from tensorflow.keras.models import Sequential\n",
    "from tensorflow.keras.layers import LSTM, Dense, Embedding, Bidirectional"
   ],
   "metadata": {
    "collapsed": false,
    "ExecuteTime": {
     "end_time": "2024-05-04T12:03:42.175415700Z",
     "start_time": "2024-05-04T12:03:37.556131800Z"
    }
   },
   "id": "2b35d12e325dbe80"
  },
  {
   "cell_type": "code",
   "execution_count": 9,
   "outputs": [
    {
     "name": "stdout",
     "output_type": "stream",
     "text": [
      "[('Intent', 0       Greet\n",
      "1       Greet\n",
      "2       Greet\n",
      "3       Greet\n",
      "4       Greet\n",
      "       ...   \n",
      "80    Inquiry\n",
      "81    Inquiry\n",
      "82    Inquiry\n",
      "83    Inquiry\n",
      "84    Inquiry\n",
      "Name: Intent, Length: 85, dtype: object), ('Example', 0                              Hi there!\n",
      "1                          Good morning!\n",
      "2                   Hey, how's it going?\n",
      "3               Hello, nice to meet you!\n",
      "4                             Greetings!\n",
      "                     ...                \n",
      "80       Do you offer delivery services?\n",
      "81        Can you recommend a good book?\n",
      "82          How can I update my profile?\n",
      "83    What's the price for this service?\n",
      "84              Where can I park my car?\n",
      "Name: Example, Length: 85, dtype: object)]\n"
     ]
    }
   ],
   "source": [
    "# Sample dataset\n",
    "\n",
    "data = pd.read_csv('./NLU_Dataset.csv')\n",
    "\n",
    "input_text = input('Enter text : ')"
   ],
   "metadata": {
    "collapsed": false,
    "ExecuteTime": {
     "end_time": "2024-05-04T12:11:50.932729900Z",
     "start_time": "2024-05-04T12:11:48.271611100Z"
    }
   },
   "id": "c5c0067907ca0643"
  },
  {
   "cell_type": "code",
   "execution_count": 10,
   "outputs": [
    {
     "name": "stdout",
     "output_type": "stream",
     "text": [
      "['Greet', 'Greet', 'Greet', 'Greet', 'Greet', 'Greet', 'Greet', 'Greet', 'Greet', 'Greet', 'Greet', 'Greet', 'Greet', 'Greet', 'Greet', 'Greet', 'Greet', 'Greet', 'Greet', 'Greet', 'Greet', 'Greet', 'Greet', 'Greet', 'Greet', 'Greet', 'Greet', 'Greet', 'Greet', 'Greet', 'Farewell', 'Farewell', 'Farewell', 'Farewell', 'Farewell', 'Farewell', 'Farewell', 'Farewell', 'Farewell', 'Farewell', 'Farewell', 'Farewell', 'Farewell', 'Farewell', 'Farewell', 'Farewell', 'Farewell', 'Farewell', 'Farewell', 'Farewell', 'Farewell', 'Farewell', 'Farewell', 'Farewell', 'Farewell', 'Farewell', 'Farewell', 'Inquiry', 'Inquiry', 'Inquiry', 'Inquiry', 'Inquiry', 'Inquiry', 'Inquiry', 'Inquiry', 'Inquiry', 'Inquiry', 'Inquiry', 'Inquiry', 'Inquiry', 'Inquiry', 'Inquiry', 'Inquiry', 'Inquiry', 'Inquiry', 'Inquiry', 'Inquiry', 'Inquiry', 'Inquiry', 'Inquiry', 'Inquiry', 'Inquiry', 'Inquiry', 'Inquiry', 'Inquiry', 'Hi there!', 'Good morning!', \"Hey, how's it going?\", 'Hello, nice to meet you!', 'Greetings!', \"Hey, what's up?\", 'Morning, how are you?', 'Hi, how can I help?', \"Hello, how's your day?\", 'Hey, long time no see!', \"Good afternoon, how's everything?\", 'Hi, nice to see you again!', \"Hello, how's the family?\", \"Hey, hope you're doing well!\", \"Hi, it's a beautiful day, isn't it?\", \"Hello, what's new with you?\", 'Hey there, ready for the day?', \"Yo, what's happening?\", \"Hi, how's work going?\", 'Hello, how was your weekend?', \"Hey, what's the latest news?\", \"Hi, how's the project coming along?\", 'Hello, any plans for the evening?', \"Hey, how's the weather treating you?\", \"Hi, how's the family doing?\", \"Hello, what's on your mind?\", \"Hey there, what's cooking?\", 'Hi, anything exciting happening?', \"Hello, how's life treating you?\", \"Hey, what's the buzz?\", 'Goodbye for now.', 'Take care!', 'See you later, alligator!', 'Bye for now!', 'Farewell, my friend!', 'Have a great day!', 'Until we meet again!', 'Goodnight and sleep well!', 'See you around!', 'Take it easy!', 'Bye, have a safe journey!', 'Goodbye, it was nice talking to you!', 'Catch you later!', 'Farewell, until next time!', 'See you soon, I hope!', 'Goodbye, stay safe!', 'Bye, take care of yourself!', 'Until next time, goodbye!', 'Have a wonderful day ahead!', 'Goodbye, thanks for everything!', 'Take care, see you tomorrow!', 'Farewell, have a blessed day!', 'See you later, take care!', 'Goodbye, keep in touch!', 'Bye, see you next week!', 'Farewell, God bless you!', 'Take care, talk to you soon!', 'What time is the meeting?', 'Could you tell me where the nearest coffee shop is?', 'Do you know when the next bus arrives?', 'Where can I find the restroom?', \"What's on the agenda for today?\", 'Can you help me with this problem?', 'Do you have information about local events?', 'Could you provide directions to the museum?', \"Is there a doctor's office nearby?\", \"What's the best way to contact you?\", 'Could you recommend a good restaurant?', 'Do you accept credit cards here?', \"What's the weather forecast for tomorrow?\", 'Can you check if my package has arrived?', 'Where can I get a taxi around here?', \"What's the WiFi password?\", \"What's your policy on refunds?\", 'How do I access my account?', 'What are your business hours?', 'Could you help me with this application?', 'Is there a discount available?', 'Where can I find more information?', 'What are the terms and conditions?', 'Do you offer delivery services?', 'Can you recommend a good book?', 'How can I update my profile?', \"What's the price for this service?\", 'Where can I park my car?']\n"
     ]
    }
   ],
   "source": [
    "# Tokenization and sequence padding\n",
    "tokenizer = Tokenizer()\n",
    "tokenizer.fit_on_texts([text for intent, examples in data.items() for text in examples])\n",
    "print([text for intent, examples in data.items() for text in examples])\n",
    "vocab_size = len(tokenizer.word_index) + 1\n",
    "\n",
    "max_len = max(len(text.split()) for intent, examples in data.items() for text in examples)\n",
    "sequences = tokenizer.texts_to_sequences([text for intent, examples in data.items() for text in examples])\n",
    "padded_sequences = pad_sequences(sequences, maxlen=max_len, padding='post')\n",
    "\n",
    "# One-hot encode labels\n",
    "labels = np.array([i for i, intent in enumerate(data.keys()) for _ in data[intent]])"
   ],
   "metadata": {
    "collapsed": false,
    "ExecuteTime": {
     "end_time": "2024-05-04T12:14:15.933070900Z",
     "start_time": "2024-05-04T12:14:15.916945600Z"
    }
   },
   "id": "6eed022543595f4b"
  },
  {
   "cell_type": "code",
   "execution_count": 5,
   "outputs": [
    {
     "name": "stderr",
     "output_type": "stream",
     "text": [
      "D:\\My\\CS\\Hackothons\\Intellihack\\Intellihack_CodeCrafters_2\\venv\\Lib\\site-packages\\keras\\src\\layers\\core\\embedding.py:90: UserWarning: Argument `input_length` is deprecated. Just remove it.\n",
      "  warnings.warn(\n"
     ]
    },
    {
     "data": {
      "text/plain": "<keras.src.callbacks.history.History at 0x1cd9b46c410>"
     },
     "execution_count": 5,
     "metadata": {},
     "output_type": "execute_result"
    }
   ],
   "source": [
    "# LSTM model\n",
    "model = Sequential()\n",
    "model.add(Embedding(vocab_size, 100, input_length=max_len))\n",
    "model.add(Bidirectional(LSTM(128)))\n",
    "model.add(Dense(len(data), activation='softmax'))\n",
    "\n",
    "model.compile(loss='sparse_categorical_crossentropy', optimizer='adam', metrics=['accuracy'])\n",
    "\n",
    "# Training\n",
    "model.fit(padded_sequences, labels, epochs=50, verbose=0)"
   ],
   "metadata": {
    "collapsed": false,
    "ExecuteTime": {
     "end_time": "2024-05-04T12:06:25.294869900Z",
     "start_time": "2024-05-04T12:06:17.641091700Z"
    }
   },
   "id": "168b9a808c73ecee"
  },
  {
   "cell_type": "code",
   "execution_count": 6,
   "outputs": [
    {
     "name": "stdout",
     "output_type": "stream",
     "text": [
      "\u001B[1m1/1\u001B[0m \u001B[32m━━━━━━━━━━━━━━━━━━━━\u001B[0m\u001B[37m\u001B[0m \u001B[1m0s\u001B[0m 306ms/step\n"
     ]
    }
   ],
   "source": [
    "# Testing\n",
    "test_input = \"Hi there, can you tell me the time?\"\n",
    "test_sequence = tokenizer.texts_to_sequences([test_input])\n",
    "padded_test_sequence = pad_sequences(test_sequence, maxlen=max_len, padding='post')\n",
    "\n",
    "predicted_probabilities = model.predict(padded_test_sequence)[0]\n",
    "predicted_intent_index = np.argmax(predicted_probabilities)\n",
    "confidence_score = predicted_probabilities[predicted_intent_index]"
   ],
   "metadata": {
    "collapsed": false,
    "ExecuteTime": {
     "end_time": "2024-05-04T12:06:25.644405100Z",
     "start_time": "2024-05-04T12:06:25.291869200Z"
    }
   },
   "id": "99d207e617a1506b"
  },
  {
   "cell_type": "code",
   "execution_count": 7,
   "outputs": [
    {
     "name": "stdout",
     "output_type": "stream",
     "text": [
      "Intent: Example, Confidence: 0.9986145496368408\n"
     ]
    }
   ],
   "source": [
    "# Fallback mechanism\n",
    "threshold = 0.7\n",
    "if confidence_score >= threshold:\n",
    "    intents = list(data.keys())\n",
    "    predicted_intent = intents[predicted_intent_index]\n",
    "    print(f\"Intent: {predicted_intent}, Confidence: {confidence_score}\")\n",
    "else:\n",
    "    print(\"Fallback: Intent could not be confidently determined.\")"
   ],
   "metadata": {
    "collapsed": false,
    "ExecuteTime": {
     "end_time": "2024-05-04T12:06:25.652827400Z",
     "start_time": "2024-05-04T12:06:25.647411Z"
    }
   },
   "id": "638fa618d535f238"
  },
  {
   "cell_type": "code",
   "execution_count": null,
   "outputs": [],
   "source": [],
   "metadata": {
    "collapsed": false
   },
   "id": "6a35f124c321f28"
  }
 ],
 "metadata": {
  "kernelspec": {
   "display_name": "Python 3",
   "language": "python",
   "name": "python3"
  },
  "language_info": {
   "codemirror_mode": {
    "name": "ipython",
    "version": 2
   },
   "file_extension": ".py",
   "mimetype": "text/x-python",
   "name": "python",
   "nbconvert_exporter": "python",
   "pygments_lexer": "ipython2",
   "version": "2.7.6"
  }
 },
 "nbformat": 4,
 "nbformat_minor": 5
}
